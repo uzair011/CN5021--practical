{
  "nbformat": 4,
  "nbformat_minor": 0,
  "metadata": {
    "colab": {
      "provenance": [],
      "authorship_tag": "ABX9TyMLh0scp73AaOuCLpXHFrRq",
      "include_colab_link": true
    },
    "kernelspec": {
      "name": "python3",
      "display_name": "Python 3"
    },
    "language_info": {
      "name": "python"
    }
  },
  "cells": [
    {
      "cell_type": "markdown",
      "metadata": {
        "id": "view-in-github",
        "colab_type": "text"
      },
      "source": [
        "<a href=\"https://colab.research.google.com/github/uzair011/CN5021--practical/blob/main/CN5021_week5_lab.ipynb\" target=\"_parent\"><img src=\"https://colab.research.google.com/assets/colab-badge.svg\" alt=\"Open In Colab\"/></a>"
      ]
    },
    {
      "cell_type": "markdown",
      "source": [
        "## Functions"
      ],
      "metadata": {
        "id": "5qNxdru1YFkt"
      }
    },
    {
      "cell_type": "code",
      "source": [
        "def printme (str):\n",
        "  \" Hello as;dlfj;alsdfh asldfdfjh\"\n",
        "  print (str)\n",
        "  return;\n",
        "\n",
        "\n",
        "printme(\"I'm first call to user defined function\")\n",
        "printme(\"Again second call to the same function\")"
      ],
      "metadata": {
        "colab": {
          "base_uri": "https://localhost:8080/"
        },
        "id": "XA_r8YVNY8vk",
        "outputId": "d7d9d44e-041d-4b23-de68-b4253971877b"
      },
      "execution_count": 7,
      "outputs": [
        {
          "output_type": "stream",
          "name": "stdout",
          "text": [
            "I'm first call to user defined function\n",
            "Again second call to the same function\n"
          ]
        }
      ]
    },
    {
      "cell_type": "code",
      "source": [
        "def greet (name_of_student):\n",
        "  print(\"Hello\", name_of_student, \"\\t happy valentines!\")\n",
        "\n",
        "\n",
        "greet(\"Annnie\")\n",
        "greet(\"Ali\")\n",
        "greet(\"adf\")\n",
        "greet(\"awrt\")"
      ],
      "metadata": {
        "colab": {
          "base_uri": "https://localhost:8080/"
        },
        "id": "IPlPIgMMZkC6",
        "outputId": "0a79d1eb-0f93-4614-c9a9-44f1eaa93e73"
      },
      "execution_count": 9,
      "outputs": [
        {
          "output_type": "stream",
          "name": "stdout",
          "text": [
            "Hello Annnie \t happy valentines!\n",
            "Hello Ali \t happy valentines!\n",
            "Hello adf \t happy valentines!\n",
            "Hello awrt \t happy valentines!\n"
          ]
        }
      ]
    },
    {
      "cell_type": "code",
      "source": [
        "def greet (name_of_student):\n",
        "  print(\"Hello\", name_of_student, \"\\t happy valentines!\")\n",
        "\n",
        "while (True):\n",
        "  new_name = input(\"Enter neme to greet valentines: \")\n",
        "\n",
        "  greet(new_name)\n",
        "\n",
        "  con_ask = input (\"Do you want to continue greeting? (Y/N)\")\n",
        "\n",
        "  if (con_ask == \"Y\" or con_ask == \"y\"):\n",
        "    continue;\n",
        "  else:\n",
        "    break;"
      ],
      "metadata": {
        "colab": {
          "base_uri": "https://localhost:8080/"
        },
        "id": "ideoBAHlbe4U",
        "outputId": "a71ec27d-2142-48af-dfea-2c622b0ee96c"
      },
      "execution_count": 10,
      "outputs": [
        {
          "name": "stdout",
          "output_type": "stream",
          "text": [
            "Enter neme to greet valentines: uzair\n",
            "Hello uzair \t happy valentines!\n",
            "Do you want to continue greeting? (Y/N)y\n",
            "Enter neme to greet valentines: ali\n",
            "Hello ali \t happy valentines!\n",
            "Do you want to continue greeting? (Y/N)n\n"
          ]
        }
      ]
    },
    {
      "cell_type": "code",
      "source": [
        "def max_of_temp (temp_of_week):\n",
        "  my_max = 0;\n",
        "\n",
        "  for temp_of_day in temp_of_week:\n",
        "    if (temp_of_day > my_max):\n",
        "      my_max = temp_of_day\n",
        "  return my_max\n",
        "\n",
        "  data = [100, 40, 50, 60, 70, 80,]"
      ],
      "metadata": {
        "id": "DFL74ExVdAmD"
      },
      "execution_count": null,
      "outputs": []
    }
  ]
}