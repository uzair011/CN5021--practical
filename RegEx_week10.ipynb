{
  "nbformat": 4,
  "nbformat_minor": 0,
  "metadata": {
    "colab": {
      "provenance": [],
      "authorship_tag": "ABX9TyPAb5ndoWnf1LumrhDdXjId",
      "include_colab_link": true
    },
    "kernelspec": {
      "name": "python3",
      "display_name": "Python 3"
    },
    "language_info": {
      "name": "python"
    }
  },
  "cells": [
    {
      "cell_type": "markdown",
      "metadata": {
        "id": "view-in-github",
        "colab_type": "text"
      },
      "source": [
        "<a href=\"https://colab.research.google.com/github/uzair011/CN5021--practical/blob/main/RegEx_week10.ipynb\" target=\"_parent\"><img src=\"https://colab.research.google.com/assets/colab-badge.svg\" alt=\"Open In Colab\"/></a>"
      ]
    },
    {
      "cell_type": "code",
      "execution_count": 1,
      "metadata": {
        "id": "2kL-EdQoIuya"
      },
      "outputs": [],
      "source": [
        "import re"
      ]
    },
    {
      "cell_type": "code",
      "source": [
        "# 1. check if the string starts with \"The\" and ends with \"London\".\n",
        "text = \"The rain inLondon\"\n",
        "x = re.search(\"^The.*London$\", text)\n",
        "\n",
        "if x:\n",
        "  print(\"Yes, we have a match.\")\n",
        "else:\n",
        "  print(\"No match\")"
      ],
      "metadata": {
        "colab": {
          "base_uri": "https://localhost:8080/"
        },
        "id": "-qMNyeRHMxK9",
        "outputId": "133bdeb6-e8ea-4d16-8daf-1ec990c31395"
      },
      "execution_count": 3,
      "outputs": [
        {
          "output_type": "stream",
          "name": "stdout",
          "text": [
            "Yes, we have a match.\n"
          ]
        }
      ]
    },
    {
      "cell_type": "code",
      "source": [
        "# 2. Return a list containing every occurrance of \"ai\".\n",
        "\n",
        "text2 = \"The students of class CN5021 are learning very hard, they are good students.\"\n",
        "x2 = re.findall(\"stu\", text2)\n",
        "x3 = re.findall(\"asdf\", text2)\n",
        "\n",
        "print(\"X2: \", x2)\n",
        "print(\"X3: \", x3)"
      ],
      "metadata": {
        "colab": {
          "base_uri": "https://localhost:8080/"
        },
        "id": "BH1YagsIOCuj",
        "outputId": "9ff9da06-be80-4401-f817-2a1a37bd0aee"
      },
      "execution_count": 5,
      "outputs": [
        {
          "output_type": "stream",
          "name": "stdout",
          "text": [
            "X2:  ['stu', 'stu']\n",
            "X3:  []\n"
          ]
        }
      ]
    },
    {
      "cell_type": "code",
      "source": [
        "# 3. count the white space\n",
        "\n",
        "text3 = \"The class of UEL.\"\n",
        "x4 = re.search(\"\\s\", text3)\n",
        "\n",
        "print(\"Number of spaces in text3 are: \", x4.start())\n",
        "print(\"Number of spaces in text3 are ...: \", x4.end())"
      ],
      "metadata": {
        "colab": {
          "base_uri": "https://localhost:8080/"
        },
        "id": "SFsLZHN9PQ84",
        "outputId": "186ced4d-1c18-4a7e-ddf1-c2d98e9dea4f"
      },
      "execution_count": 14,
      "outputs": [
        {
          "output_type": "stream",
          "name": "stdout",
          "text": [
            "Number of spaces in text3 are:  3\n",
            "Number of spaces in text3 are ...:  4\n"
          ]
        }
      ]
    },
    {
      "cell_type": "code",
      "source": [
        "# 4. split the string every white-space character.\n",
        "\n",
        "text4 = \"The class of UEL.\"\n",
        "x5 = re.split(\"\\s\", text4)\n",
        "\n",
        "\n",
        "print(\"Splitted text3: \", x5)"
      ],
      "metadata": {
        "colab": {
          "base_uri": "https://localhost:8080/"
        },
        "id": "-NOpKr7TQb0X",
        "outputId": "e994db24-7505-4b85-905b-b6d580870e5f"
      },
      "execution_count": 16,
      "outputs": [
        {
          "output_type": "stream",
          "name": "stdout",
          "text": [
            "Splitted text3:  ['The', 'class', 'of', 'UEL.']\n"
          ]
        }
      ]
    },
    {
      "cell_type": "code",
      "source": [
        "# 5. Replace white-space with a different character.\n",
        "\n",
        "text5 = \"The class of UEL.\"\n",
        "x6 = re.sub(\"\\s\", \"\\n\",  text5)\n",
        "x7 = re.sub(\"\\s\", \"$$\",  text5)\n",
        "\n",
        "\n",
        "print(\"Splitted text3: \\n\", x6)\n",
        "print(\"Splitted text3:\", x7)"
      ],
      "metadata": {
        "colab": {
          "base_uri": "https://localhost:8080/"
        },
        "id": "VvJkIS5HQ3at",
        "outputId": "88e9a5fd-7344-4200-fdcd-806d0b9f2575"
      },
      "execution_count": 23,
      "outputs": [
        {
          "output_type": "stream",
          "name": "stdout",
          "text": [
            "Splitted text3: \n",
            " The\n",
            "class\n",
            "of\n",
            "UEL.\n",
            "Splitted text3: The$$class$$of$$UEL.\n"
          ]
        }
      ]
    },
    {
      "cell_type": "code",
      "source": [
        "# 6. search something...\n",
        "\n",
        "text6 = \"There are 5050 students in the class of UEL.\"\n",
        "x8 = re.search(\"50\", text6)\n",
        "\n",
        "\n",
        "print(\"Splitted text3: \", x8)\n"
      ],
      "metadata": {
        "colab": {
          "base_uri": "https://localhost:8080/"
        },
        "id": "oQNmS37ORRCL",
        "outputId": "66f27bb8-24e3-4e15-94d4-c5727759bdfd"
      },
      "execution_count": 35,
      "outputs": [
        {
          "output_type": "stream",
          "name": "stdout",
          "text": [
            "Splitted text3:  <re.Match object; span=(10, 12), match='50'>\n"
          ]
        }
      ]
    },
    {
      "cell_type": "code",
      "source": [
        "# 7. search leatter... print start and the end position.\n",
        "\n",
        "text7 = \"hello, uzair\"\n",
        "x9 = re.findall(\"he.?o\", text7)\n",
        "x10 = re.findall(\"he.?l\", text7)\n",
        "\n",
        "print(\"Text 7:\", x9)\n",
        "print(\"Text 7:\", x10)"
      ],
      "metadata": {
        "colab": {
          "base_uri": "https://localhost:8080/"
        },
        "id": "lkgAP73CSUKi",
        "outputId": "dfd779db-686b-47dd-bbc2-91449841bb18"
      },
      "execution_count": 47,
      "outputs": [
        {
          "output_type": "stream",
          "name": "stdout",
          "text": [
            "Text 7: []\n",
            "Text 7: ['hell']\n"
          ]
        }
      ]
    },
    {
      "cell_type": "code",
      "source": [
        "# 8. OR or options ||\n",
        "\n",
        "text8 = \"hello welcome to london ddadada...\"\n",
        "\n"
      ],
      "metadata": {
        "id": "dYoxEoAxUvfU"
      },
      "execution_count": null,
      "outputs": []
    },
    {
      "cell_type": "code",
      "source": [
        "# 9. chec if a specific string is in the text\n",
        "\n",
        "text9 = \"The rain in London\"\n",
        "\n",
        "x12 = re.findall(\"\\AThe\", text9)\n",
        "\n",
        "print(x12)\n",
        "\n",
        "if x12:\n",
        "  print(\"Yes, there is a match.\")\n",
        "else:\n",
        "  print(\"Nope...no match\")"
      ],
      "metadata": {
        "colab": {
          "base_uri": "https://localhost:8080/"
        },
        "id": "WcQ1-WVIWt-x",
        "outputId": "2c8c084f-504c-4c86-95ab-28bc925cf053"
      },
      "execution_count": 48,
      "outputs": [
        {
          "output_type": "stream",
          "name": "stdout",
          "text": [
            "['The']\n",
            "Yes, there is a match.\n"
          ]
        }
      ]
    },
    {
      "cell_type": "code",
      "source": [
        "# 10. find no-digit charates...\n",
        "\n",
        "text10 = \"2020 and 2049\"\n",
        "\n",
        "x13 = re.findall(\"\\D\", text10)\n",
        "\n",
        "print(x13)\n",
        "\n",
        "if x13:\n",
        "  print(\"Yes, there is a match.\")\n",
        "else:\n",
        "  print(\"Nope...no match\")"
      ],
      "metadata": {
        "colab": {
          "base_uri": "https://localhost:8080/"
        },
        "id": "1--cbGIwXlaP",
        "outputId": "2d39b8c1-633c-400e-8807-922a6c2e6a5e"
      },
      "execution_count": 52,
      "outputs": [
        {
          "output_type": "stream",
          "name": "stdout",
          "text": [
            "[' ', 'a', 'n', 'd', ' ']\n",
            "Yes, there is a match.\n"
          ]
        }
      ]
    },
    {
      "cell_type": "code",
      "source": [
        "# 11. return a match at every word characted (a to z, 0 to 9, and underscore chadracrter)\n",
        "\n",
        "text11 = \"London      @UEL\"\n",
        "\n",
        "x14 = re.findall(\"\\w\", text11)\n",
        "x15 = re.findall(\"\\W\", text11)\n",
        "\n",
        "print(x14)\n",
        "print(x15)\n",
        "\n",
        "if x14:\n",
        "  print(\"Yes, there is a match.\")\n",
        "else:\n",
        "  print(\"Nope...no match\")"
      ],
      "metadata": {
        "colab": {
          "base_uri": "https://localhost:8080/"
        },
        "id": "z7Yzv1HEYjUb",
        "outputId": "8e979a69-256b-4d8d-b332-283978b2da6a"
      },
      "execution_count": 59,
      "outputs": [
        {
          "output_type": "stream",
          "name": "stdout",
          "text": [
            "['L', 'o', 'n', 'd', 'o', 'n', 'U', 'E', 'L']\n",
            "[' ', ' ', ' ', ' ', ' ', ' ', '@']\n",
            "Yes, there is a match.\n"
          ]
        }
      ]
    },
    {
      "cell_type": "code",
      "source": [
        "# 12. sets...\n",
        "\n",
        "# check if the string has any characters between a and n\n",
        "\n",
        "text12 = \"the class of UEL session 2024\"\n",
        "\n",
        "x16 = re.findall(\"[a-n]\", text12)\n",
        "\n",
        "print(x16)"
      ],
      "metadata": {
        "colab": {
          "base_uri": "https://localhost:8080/"
        },
        "id": "21uLtjE8bY1k",
        "outputId": "89e1d7fc-6483-4866-98ee-8d7c69cbd0ee"
      },
      "execution_count": 61,
      "outputs": [
        {
          "output_type": "stream",
          "name": "stdout",
          "text": [
            "['h', 'e', 'c', 'l', 'a', 'f', 'e', 'i', 'n']\n"
          ]
        }
      ]
    },
    {
      "cell_type": "code",
      "source": [
        "# 13. check if the string has any 2 digit  number, form 00 to 49\n",
        "\n",
        "text13 = \"UEL chass time 11:45:53\"\n",
        "\n",
        "x17 = re.findall(\"[0-4][0-9]\", text13)\n",
        "\n",
        "print(x17)"
      ],
      "metadata": {
        "colab": {
          "base_uri": "https://localhost:8080/"
        },
        "id": "j_Df8SKfbyed",
        "outputId": "0b42e59b-a314-48c2-e242-a923d119c52e"
      },
      "execution_count": 62,
      "outputs": [
        {
          "output_type": "stream",
          "name": "stdout",
          "text": [
            "['11', '45']\n"
          ]
        }
      ]
    },
    {
      "cell_type": "code",
      "source": [],
      "metadata": {
        "id": "Yqlh5LQ0dixb"
      },
      "execution_count": null,
      "outputs": []
    }
  ]
}