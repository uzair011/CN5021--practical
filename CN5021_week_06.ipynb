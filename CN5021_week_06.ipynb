{
  "nbformat": 4,
  "nbformat_minor": 0,
  "metadata": {
    "colab": {
      "provenance": [],
      "authorship_tag": "ABX9TyOWsBGxBrozWms92ClV4D1g",
      "include_colab_link": true
    },
    "kernelspec": {
      "name": "python3",
      "display_name": "Python 3"
    },
    "language_info": {
      "name": "python"
    }
  },
  "cells": [
    {
      "cell_type": "markdown",
      "metadata": {
        "id": "view-in-github",
        "colab_type": "text"
      },
      "source": [
        "<a href=\"https://colab.research.google.com/github/uzair011/CN5021--practical/blob/main/CN5021_week_06.ipynb\" target=\"_parent\"><img src=\"https://colab.research.google.com/assets/colab-badge.svg\" alt=\"Open In Colab\"/></a>"
      ]
    },
    {
      "cell_type": "code",
      "execution_count": 1,
      "metadata": {
        "id": "afS98n4Z-Mmf"
      },
      "outputs": [],
      "source": [
        "import csv\n",
        "\n",
        "myData = open (\"/content/SampleData.csv\")"
      ]
    },
    {
      "cell_type": "code",
      "source": [
        "myData_csv = csv.reader(myData) # reading the file pointer..."
      ],
      "metadata": {
        "id": "x5vDIZoZDGJN"
      },
      "execution_count": 3,
      "outputs": []
    },
    {
      "cell_type": "code",
      "source": [
        "# read the dadta line by line\n",
        "\n",
        "header = []\n",
        "header = next(myData_csv)\n",
        "print(header)"
      ],
      "metadata": {
        "colab": {
          "base_uri": "https://localhost:8080/"
        },
        "id": "NyjQqavhDaqA",
        "outputId": "e1f5a971-b065-435f-b88d-e74c275cacb2"
      },
      "execution_count": 4,
      "outputs": [
        {
          "output_type": "stream",
          "name": "stdout",
          "text": [
            "['Samples NO.', 'Feature1', 'Feature2', 'Feature3', 'Feature4', 'Feature5', 'Feature6', 'Feature7', 'Feature8', 'Feature9', 'Feature10']\n"
          ]
        }
      ]
    },
    {
      "cell_type": "code",
      "source": [
        "myData.close()"
      ],
      "metadata": {
        "id": "2NbOZGUMFNw8"
      },
      "execution_count": 14,
      "outputs": []
    },
    {
      "cell_type": "code",
      "source": [
        "myData = open (\"/content/SampleData.csv\")\n"
      ],
      "metadata": {
        "id": "LwfZi7BaF20R"
      },
      "execution_count": 16,
      "outputs": []
    },
    {
      "cell_type": "code",
      "source": [
        "header = []\n",
        "header = next(myData_csv)\n",
        "print(header)"
      ],
      "metadata": {
        "colab": {
          "base_uri": "https://localhost:8080/",
          "height": 214
        },
        "id": "mXIYg0boGD9s",
        "outputId": "bdaff10f-2757-47cb-910f-92ec1cd6d9ab"
      },
      "execution_count": 17,
      "outputs": [
        {
          "output_type": "error",
          "ename": "ValueError",
          "evalue": "ignored",
          "traceback": [
            "\u001b[0;31m---------------------------------------------------------------------------\u001b[0m",
            "\u001b[0;31mValueError\u001b[0m                                Traceback (most recent call last)",
            "\u001b[0;32m<ipython-input-17-d87aeff8b779>\u001b[0m in \u001b[0;36m<cell line: 2>\u001b[0;34m()\u001b[0m\n\u001b[1;32m      1\u001b[0m \u001b[0mheader\u001b[0m \u001b[0;34m=\u001b[0m \u001b[0;34m[\u001b[0m\u001b[0;34m]\u001b[0m\u001b[0;34m\u001b[0m\u001b[0;34m\u001b[0m\u001b[0m\n\u001b[0;32m----> 2\u001b[0;31m \u001b[0mheader\u001b[0m \u001b[0;34m=\u001b[0m \u001b[0mnext\u001b[0m\u001b[0;34m(\u001b[0m\u001b[0mmyData_csv\u001b[0m\u001b[0;34m)\u001b[0m\u001b[0;34m\u001b[0m\u001b[0;34m\u001b[0m\u001b[0m\n\u001b[0m\u001b[1;32m      3\u001b[0m \u001b[0mprint\u001b[0m\u001b[0;34m(\u001b[0m\u001b[0mheader\u001b[0m\u001b[0;34m)\u001b[0m\u001b[0;34m\u001b[0m\u001b[0;34m\u001b[0m\u001b[0m\n",
            "\u001b[0;31mValueError\u001b[0m: I/O operation on closed file."
          ]
        }
      ]
    },
    {
      "cell_type": "code",
      "source": [
        "rows = []\n",
        "for row in cvsreader:\n",
        "  rows.append(row)\n",
        "  print(\"The current row is :\" , row)\n",
        "print(rows)"
      ],
      "metadata": {
        "colab": {
          "base_uri": "https://localhost:8080/",
          "height": 250
        },
        "id": "32wKOUEjDt8E",
        "outputId": "4c77abf1-aa1c-410a-f29e-c7dcfef9bf94"
      },
      "execution_count": 18,
      "outputs": [
        {
          "output_type": "error",
          "ename": "NameError",
          "evalue": "ignored",
          "traceback": [
            "\u001b[0;31m---------------------------------------------------------------------------\u001b[0m",
            "\u001b[0;31mNameError\u001b[0m                                 Traceback (most recent call last)",
            "\u001b[0;32m<ipython-input-18-87a5883cd3b1>\u001b[0m in \u001b[0;36m<cell line: 2>\u001b[0;34m()\u001b[0m\n\u001b[1;32m      1\u001b[0m \u001b[0mrows\u001b[0m \u001b[0;34m=\u001b[0m \u001b[0;34m[\u001b[0m\u001b[0;34m]\u001b[0m\u001b[0;34m\u001b[0m\u001b[0;34m\u001b[0m\u001b[0m\n\u001b[0;32m----> 2\u001b[0;31m \u001b[0;32mfor\u001b[0m \u001b[0mrow\u001b[0m \u001b[0;32min\u001b[0m \u001b[0mcvsreader\u001b[0m\u001b[0;34m:\u001b[0m\u001b[0;34m\u001b[0m\u001b[0;34m\u001b[0m\u001b[0m\n\u001b[0m\u001b[1;32m      3\u001b[0m   \u001b[0mrows\u001b[0m\u001b[0;34m.\u001b[0m\u001b[0mappend\u001b[0m\u001b[0;34m(\u001b[0m\u001b[0mrow\u001b[0m\u001b[0;34m)\u001b[0m\u001b[0;34m\u001b[0m\u001b[0;34m\u001b[0m\u001b[0m\n\u001b[1;32m      4\u001b[0m   \u001b[0mprint\u001b[0m\u001b[0;34m(\u001b[0m\u001b[0;34m\"The current row is :\"\u001b[0m \u001b[0;34m,\u001b[0m \u001b[0mrow\u001b[0m\u001b[0;34m)\u001b[0m\u001b[0;34m\u001b[0m\u001b[0;34m\u001b[0m\u001b[0m\n\u001b[1;32m      5\u001b[0m \u001b[0mprint\u001b[0m\u001b[0;34m(\u001b[0m\u001b[0mrows\u001b[0m\u001b[0;34m)\u001b[0m\u001b[0;34m\u001b[0m\u001b[0;34m\u001b[0m\u001b[0m\n",
            "\u001b[0;31mNameError\u001b[0m: name 'cvsreader' is not defined"
          ]
        }
      ]
    },
    {
      "cell_type": "code",
      "source": [
        "myData2 = open(\"/content/SampleDataMultiLines.csv\")\n",
        "myData2_csv = csv.reader(myData2)"
      ],
      "metadata": {
        "id": "OFJ5jfFNGQPV"
      },
      "execution_count": 30,
      "outputs": []
    },
    {
      "cell_type": "markdown",
      "source": [
        "header2 = []\n",
        "\n",
        "try:\n",
        "\n",
        "  for row in myData2_csv:\n",
        "    header2.append(row)\n",
        "    print(\"One line is :\", row)\n",
        "\n",
        "  print(\"the end...\")  \n",
        "except:\n",
        "  print(\"file not found...\")  "
      ],
      "metadata": {
        "id": "7_amVOmpGlLu"
      }
    },
    {
      "cell_type": "code",
      "source": [
        "# field names\n",
        "fields = [\"Name\", \"School\", \"Year\", \"GPA\"]\n",
        "\n",
        "# data rows of csv file\n",
        "rows = [\n",
        "    [\"Ali\", \"COE\", \"2\", \"9.0\"],\n",
        "    [\"Ram\", \"COE\", \"2\", \"9.1\"],\n",
        "    [\"Sufiyan\", \"IT\", \"2\", \"9.3\"],\n",
        "    [\"Hai\", \"SE\", \"1\", \"9.5\"],\n",
        "    [\"X\", \"MCE\", \"3\", \"7.8\"],\n",
        "    [\"Y\", \"EP\", \"2\", \"9.1\"]\n",
        "]\n",
        "\n",
        "# name of csv file\n",
        "fileName = \"University_records_2023.csv\"\n",
        "\n",
        "# writing to csv file\n",
        "with open(fileName, \"w\") as csvFile:\n",
        "\n",
        "  #Creating a csv writer object\n",
        "  csvWriter = csv.writer(csvFile)\n",
        "\n",
        "  #writing in the fields\n",
        "  csvWriter.writerow(fields)\n",
        "\n",
        "  # writing in the rows... data\n",
        "  csvWriter.writerows(rows)"
      ],
      "metadata": {
        "id": "cazMH-1cJ2TL"
      },
      "execution_count": 41,
      "outputs": []
    }
  ]
}