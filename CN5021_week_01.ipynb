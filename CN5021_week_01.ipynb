{
  "nbformat": 4,
  "nbformat_minor": 0,
  "metadata": {
    "colab": {
      "provenance": [],
      "authorship_tag": "ABX9TyOzb9jBk+uFbRIVnTYizG6B",
      "include_colab_link": true
    },
    "kernelspec": {
      "name": "python3",
      "display_name": "Python 3"
    },
    "language_info": {
      "name": "python"
    }
  },
  "cells": [
    {
      "cell_type": "markdown",
      "metadata": {
        "id": "view-in-github",
        "colab_type": "text"
      },
      "source": [
        "<a href=\"https://colab.research.google.com/github/uzair011/CN5021--practical/blob/main/CN5021_week_01.ipynb\" target=\"_parent\"><img src=\"https://colab.research.google.com/assets/colab-badge.svg\" alt=\"Open In Colab\"/></a>"
      ]
    },
    {
      "cell_type": "markdown",
      "source": [
        "Numbers"
      ],
      "metadata": {
        "id": "mgaPjWRXGUPx"
      }
    },
    {
      "cell_type": "code",
      "execution_count": null,
      "metadata": {
        "colab": {
          "base_uri": "https://localhost:8080/"
        },
        "id": "bQeYqaK3Dqzg",
        "outputId": "dc4acc69-2173-476e-f1f2-f1b9fdeea470"
      },
      "outputs": [
        {
          "output_type": "execute_result",
          "data": {
            "text/plain": [
              "4"
            ]
          },
          "metadata": {},
          "execution_count": 1
        }
      ],
      "source": [
        "4"
      ]
    },
    {
      "cell_type": "code",
      "source": [
        "print(4)"
      ],
      "metadata": {
        "colab": {
          "base_uri": "https://localhost:8080/"
        },
        "id": "1Dq-HszgEljK",
        "outputId": "de0fc22c-0c64-41ba-d3dc-cc996f1eb2da"
      },
      "execution_count": null,
      "outputs": [
        {
          "output_type": "stream",
          "name": "stdout",
          "text": [
            "4\n"
          ]
        }
      ]
    },
    {
      "cell_type": "code",
      "source": [
        "3+4"
      ],
      "metadata": {
        "colab": {
          "base_uri": "https://localhost:8080/"
        },
        "id": "wQeTzmQlEnDl",
        "outputId": "d2e6f1bd-f584-48c3-ac80-9a77cbfed089"
      },
      "execution_count": null,
      "outputs": [
        {
          "output_type": "execute_result",
          "data": {
            "text/plain": [
              "7"
            ]
          },
          "metadata": {},
          "execution_count": 3
        }
      ]
    },
    {
      "cell_type": "code",
      "source": [
        "print(3+4)"
      ],
      "metadata": {
        "colab": {
          "base_uri": "https://localhost:8080/"
        },
        "id": "tGyCyu8VEpCX",
        "outputId": "12759a01-f5fb-402d-b515-66d26949beb8"
      },
      "execution_count": null,
      "outputs": [
        {
          "output_type": "stream",
          "name": "stdout",
          "text": [
            "7\n"
          ]
        }
      ]
    },
    {
      "cell_type": "code",
      "source": [
        "1+2.5+4.98+93"
      ],
      "metadata": {
        "colab": {
          "base_uri": "https://localhost:8080/"
        },
        "id": "NMxVrYlOErso",
        "outputId": "2e7872c5-e436-434b-e782-e1045057f60f"
      },
      "execution_count": null,
      "outputs": [
        {
          "output_type": "execute_result",
          "data": {
            "text/plain": [
              "101.48"
            ]
          },
          "metadata": {},
          "execution_count": 5
        }
      ]
    },
    {
      "cell_type": "code",
      "source": [
        "print(1+2.5+4.98+93)"
      ],
      "metadata": {
        "id": "LURVCUhWEv3x",
        "outputId": "ece07b6a-0f78-485c-9497-ae3411ace811",
        "colab": {
          "base_uri": "https://localhost:8080/"
        }
      },
      "execution_count": null,
      "outputs": [
        {
          "output_type": "stream",
          "name": "stdout",
          "text": [
            "101.48\n"
          ]
        }
      ]
    },
    {
      "cell_type": "markdown",
      "source": [
        "Strings"
      ],
      "metadata": {
        "id": "o04XRn-DGX8G"
      }
    },
    {
      "cell_type": "code",
      "source": [
        "\"19\""
      ],
      "metadata": {
        "colab": {
          "base_uri": "https://localhost:8080/",
          "height": 36
        },
        "id": "r44GIHPEGa58",
        "outputId": "9edfac14-aab8-4b72-8c55-1e99893acb30"
      },
      "execution_count": 7,
      "outputs": [
        {
          "output_type": "execute_result",
          "data": {
            "text/plain": [
              "'19'"
            ],
            "application/vnd.google.colaboratory.intrinsic+json": {
              "type": "string"
            }
          },
          "metadata": {},
          "execution_count": 7
        }
      ]
    },
    {
      "cell_type": "code",
      "source": [
        "'23'"
      ],
      "metadata": {
        "colab": {
          "base_uri": "https://localhost:8080/",
          "height": 36
        },
        "id": "KTjWNRS1G_oF",
        "outputId": "e09ce331-28c8-41d3-ca69-7dde14104275"
      },
      "execution_count": 8,
      "outputs": [
        {
          "output_type": "execute_result",
          "data": {
            "text/plain": [
              "'23'"
            ],
            "application/vnd.google.colaboratory.intrinsic+json": {
              "type": "string"
            }
          },
          "metadata": {},
          "execution_count": 8
        }
      ]
    },
    {
      "cell_type": "code",
      "source": [
        "print(\"34\")"
      ],
      "metadata": {
        "colab": {
          "base_uri": "https://localhost:8080/"
        },
        "id": "YLqJsJt9HB0H",
        "outputId": "07553817-0d90-45c2-eb31-85708dec46a7"
      },
      "execution_count": 9,
      "outputs": [
        {
          "output_type": "stream",
          "name": "stdout",
          "text": [
            "34\n"
          ]
        }
      ]
    },
    {
      "cell_type": "code",
      "source": [
        "\"asdf\""
      ],
      "metadata": {
        "colab": {
          "base_uri": "https://localhost:8080/",
          "height": 36
        },
        "id": "aUtG1Dd9HEVI",
        "outputId": "bb6084b1-b58e-4041-9611-d053467c0b22"
      },
      "execution_count": 10,
      "outputs": [
        {
          "output_type": "execute_result",
          "data": {
            "text/plain": [
              "'asdf'"
            ],
            "application/vnd.google.colaboratory.intrinsic+json": {
              "type": "string"
            }
          },
          "metadata": {},
          "execution_count": 10
        }
      ]
    },
    {
      "cell_type": "markdown",
      "source": [
        "......."
      ],
      "metadata": {
        "id": "9O-B4zTLHxgY"
      }
    },
    {
      "cell_type": "code",
      "source": [
        "5+23"
      ],
      "metadata": {
        "colab": {
          "base_uri": "https://localhost:8080/"
        },
        "id": "jShtKncsHynb",
        "outputId": "b4a8d406-5cd6-4648-bf7c-67da3255b4be"
      },
      "execution_count": 12,
      "outputs": [
        {
          "output_type": "execute_result",
          "data": {
            "text/plain": [
              "28"
            ]
          },
          "metadata": {},
          "execution_count": 12
        }
      ]
    },
    {
      "cell_type": "code",
      "source": [
        "\"2\"+\"09\""
      ],
      "metadata": {
        "colab": {
          "base_uri": "https://localhost:8080/",
          "height": 36
        },
        "id": "QtCkKc4yH0QM",
        "outputId": "3d305c5b-7b2d-4ea5-d7f4-25c1d39d2eea"
      },
      "execution_count": 13,
      "outputs": [
        {
          "output_type": "execute_result",
          "data": {
            "text/plain": [
              "'209'"
            ],
            "application/vnd.google.colaboratory.intrinsic+json": {
              "type": "string"
            }
          },
          "metadata": {},
          "execution_count": 13
        }
      ]
    },
    {
      "cell_type": "code",
      "source": [
        "2 + int(9)"
      ],
      "metadata": {
        "colab": {
          "base_uri": "https://localhost:8080/"
        },
        "id": "mmH87cQ0H6OA",
        "outputId": "30cf0ca0-0295-4dc5-9dfe-841c06cc8781"
      },
      "execution_count": 17,
      "outputs": [
        {
          "output_type": "execute_result",
          "data": {
            "text/plain": [
              "11"
            ]
          },
          "metadata": {},
          "execution_count": 17
        }
      ]
    },
    {
      "cell_type": "code",
      "source": [
        "\"34\"+ str(23)"
      ],
      "metadata": {
        "colab": {
          "base_uri": "https://localhost:8080/",
          "height": 36
        },
        "id": "0MQLxkXwIKbM",
        "outputId": "a1d13c76-38ec-43bc-fd24-0e6b0e1c9712"
      },
      "execution_count": 18,
      "outputs": [
        {
          "output_type": "execute_result",
          "data": {
            "text/plain": [
              "'3423'"
            ],
            "application/vnd.google.colaboratory.intrinsic+json": {
              "type": "string"
            }
          },
          "metadata": {},
          "execution_count": 18
        }
      ]
    },
    {
      "cell_type": "markdown",
      "source": [
        "variables and assignment"
      ],
      "metadata": {
        "id": "hs6bvFRSIqJ3"
      }
    },
    {
      "cell_type": "code",
      "source": [
        "a=3\n",
        "b=9\n",
        "\n",
        "print(a)\n",
        "print(b)\n",
        "print(\"the value of 'a' is \", a)\n",
        "print(\"hwe value of 'b' is , b\")"
      ],
      "metadata": {
        "colab": {
          "base_uri": "https://localhost:8080/"
        },
        "id": "tLApEusEItMw",
        "outputId": "4d7860d0-84b3-4216-b2fd-630eabc36f2d"
      },
      "execution_count": 20,
      "outputs": [
        {
          "output_type": "stream",
          "name": "stdout",
          "text": [
            "3\n",
            "9\n",
            "the value of 'a' is  3\n",
            "hwe value of 'b' is , b\n"
          ]
        }
      ]
    },
    {
      "cell_type": "code",
      "source": [
        "first_entry = 87\n",
        "x3 = 67"
      ],
      "metadata": {
        "id": "v6GQvRVaJc6G"
      },
      "execution_count": 24,
      "outputs": []
    },
    {
      "cell_type": "code",
      "source": [
        "print(\"a\\nb\\nc\")\n",
        "print(\"a\\tb\\tc\")\n",
        "print(\"ad\\bre\")\n",
        "\n",
        "print(\"2\\a5\\a6\\a3\")"
      ],
      "metadata": {
        "colab": {
          "base_uri": "https://localhost:8080/"
        },
        "id": "j_-Q6qDPLN4H",
        "outputId": "0f8a7f63-e68a-4032-b828-3bdc1d40540d"
      },
      "execution_count": 27,
      "outputs": [
        {
          "output_type": "stream",
          "name": "stdout",
          "text": [
            "a\n",
            "b\n",
            "c\n",
            "a\tb\tc\n",
            "ad\bre\n",
            "2\u00075\u00076\u00073\n"
          ]
        }
      ]
    },
    {
      "cell_type": "markdown",
      "source": [
        "User input"
      ],
      "metadata": {
        "id": "oOOy_SDAM5HS"
      }
    },
    {
      "cell_type": "code",
      "source": [
        "print(\"Please enter your name: \")\n",
        "name = input()\n",
        "print(\"Name entered: \", name)\n",
        "print(\"Type:\", type(name))"
      ],
      "metadata": {
        "colab": {
          "base_uri": "https://localhost:8080/"
        },
        "id": "wr8fKQEnNBXu",
        "outputId": "13bcaa98-ae59-45b3-bdd4-ac18fecc62b0"
      },
      "execution_count": 28,
      "outputs": [
        {
          "output_type": "stream",
          "name": "stdout",
          "text": [
            "Please enter your name: \n",
            "uzair\n",
            "Name entered:  uzair\n",
            "Type: <class 'str'>\n"
          ]
        }
      ]
    },
    {
      "cell_type": "code",
      "source": [
        "print(\"Please enter a number: \")\n",
        "num = int(input())\n",
        "print(\"number entered: \", num)\n",
        "print(\"Type:\", type(num))"
      ],
      "metadata": {
        "colab": {
          "base_uri": "https://localhost:8080/"
        },
        "id": "we58eo1jNwFi",
        "outputId": "e3f69640-4ff9-4793-de11-6dad091928c1"
      },
      "execution_count": 37,
      "outputs": [
        {
          "output_type": "stream",
          "name": "stdout",
          "text": [
            "Please enter a number: \n",
            "54\n",
            "number entered:  54\n",
            "Type: <class 'int'>\n"
          ]
        }
      ]
    },
    {
      "cell_type": "code",
      "source": [
        "print(\"Enter the first number: \")\n",
        "num1 = input()\n",
        "print(\"Enter the second number: \")\n",
        "num2 = input()\n",
        "num1, num2 = int(num1), int(num2)\n",
        "print(num1, \"+\", num2, \"=\", num1 + num2)"
      ],
      "metadata": {
        "colab": {
          "base_uri": "https://localhost:8080/"
        },
        "id": "5Hc7dKRTNbho",
        "outputId": "f42b76c8-1c46-46b4-d4f9-ac409af64e16"
      },
      "execution_count": 32,
      "outputs": [
        {
          "output_type": "stream",
          "name": "stdout",
          "text": [
            "Enter the first number: \n",
            "12\n",
            "Enter the second number: \n",
            "34\n",
            "12 + 34 = 46\n"
          ]
        }
      ]
    },
    {
      "cell_type": "code",
      "source": [
        "print(\"Please enter your name: \")\n",
        "name = input()\n",
        "print(\"Enter the first number: \")\n",
        "id = id(input())\n",
        "\n",
        "print(f\"My name is {name} and my student id is {id}\")"
      ],
      "metadata": {
        "colab": {
          "base_uri": "https://localhost:8080/"
        },
        "id": "IR4ZP2S4PyOr",
        "outputId": "adcf70c2-cc2c-4c04-9c7e-4ada152e13c7"
      },
      "execution_count": 38,
      "outputs": [
        {
          "output_type": "stream",
          "name": "stdout",
          "text": [
            "Please enter your name: \n",
            "uzair\n",
            "Enter the first number: \n",
            "12345234\n",
            "My name is uzair and my student id is 140255723226544\n"
          ]
        }
      ]
    }
  ]
}