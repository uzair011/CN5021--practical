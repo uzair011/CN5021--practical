{
  "nbformat": 4,
  "nbformat_minor": 0,
  "metadata": {
    "colab": {
      "provenance": [],
      "authorship_tag": "ABX9TyO/rnPU9+66wgQTZCa27HTs",
      "include_colab_link": true
    },
    "kernelspec": {
      "name": "python3",
      "display_name": "Python 3"
    },
    "language_info": {
      "name": "python"
    }
  },
  "cells": [
    {
      "cell_type": "markdown",
      "metadata": {
        "id": "view-in-github",
        "colab_type": "text"
      },
      "source": [
        "<a href=\"https://colab.research.google.com/github/uzair011/CN5021--practical/blob/main/week6_quiz1.ipynb\" target=\"_parent\"><img src=\"https://colab.research.google.com/assets/colab-badge.svg\" alt=\"Open In Colab\"/></a>"
      ]
    },
    {
      "cell_type": "code",
      "source": [
        "### U2598219 - Liyauddeen Mohamed Uzair\n",
        "\n",
        "from logging import exception\n",
        "\n",
        "def animal_hierarchy_function(animals, animal_necks):\n",
        "\n",
        "  try:\n",
        "    # iterate through animal lists...\n",
        "    for animal, height in animals.items():\n",
        "      neck_category = \"short neck\" # default neck length to all animals...\n",
        "\n",
        "      # animal neck length check - condition\n",
        "      if animal in animal_necks:\n",
        "        animal_neck = animal_necks[animal]\n",
        "\n",
        "      # animal height check - condition\n",
        "        if height >= 1:\n",
        "          category = \"tall\"\n",
        "\n",
        "          if animal_neck > 2:\n",
        "            neck_category = \"Long neck\"\n",
        "\n",
        "        else:\n",
        "          category = \"short\"\n",
        "\n",
        "        # print the results...\n",
        "        print(f\"{animal} is {category} and has {neck_category}\")\n",
        "      else:\n",
        "        print (\"error... No neck lengths found!\")    # error message if their is no neck lengths...\n",
        "\n",
        "  # error handling\n",
        "  except exception as e:\n",
        "    print(\"error...!!!\")\n",
        "\n",
        "# defineing the animal heights\n",
        "animal_heights = {\n",
        "      'Squirrel': 0.5,\n",
        "      'Rat': 0.4,\n",
        "      'Rhinoceros': 6,\n",
        "      'Hippo': 5,\n",
        "      'Elephant': 10,\n",
        "      'Giraffe': 18\n",
        "      }\n",
        "\n",
        "# defineing the animal neck lengths...\n",
        "animal_neck_lengths = {\n",
        "    'Squirrel': 0.1,\n",
        "    'Rat': 0.1,\n",
        "    'Rhinoceros': 2,\n",
        "    'Hippo': 1,\n",
        "    'Elephant': 1,\n",
        "    'Giraffe': 5\n",
        "}\n",
        "\n",
        "animal_hierarchy_function(animal_heights, animal_neck_lengths)\n"
      ],
      "metadata": {
        "colab": {
          "base_uri": "https://localhost:8080/"
        },
        "id": "0-E8rh_aacLI",
        "outputId": "0b26cdab-ae65-4351-e573-66824f467877"
      },
      "execution_count": 34,
      "outputs": [
        {
          "output_type": "stream",
          "name": "stdout",
          "text": [
            "Squirrel is short and has short neck\n",
            "Rat is short and has short neck\n",
            "Rhinoceros is tall and has short neck\n",
            "Hippo is tall and has short neck\n",
            "Elephant is tall and has short neck\n",
            "Giraffe is tall and has Long neck\n"
          ]
        }
      ]
    },
    {
      "cell_type": "code",
      "source": [],
      "metadata": {
        "id": "MB0V3h_EaS53"
      },
      "execution_count": null,
      "outputs": []
    },
    {
      "cell_type": "code",
      "source": [],
      "metadata": {
        "id": "poztxiLDaS3Q"
      },
      "execution_count": null,
      "outputs": []
    },
    {
      "cell_type": "code",
      "source": [],
      "metadata": {
        "id": "FPrrZ_QeaSxh"
      },
      "execution_count": null,
      "outputs": []
    },
    {
      "cell_type": "code",
      "source": [],
      "metadata": {
        "id": "JpNGU7j2aSu6"
      },
      "execution_count": null,
      "outputs": []
    },
    {
      "cell_type": "code",
      "source": [],
      "metadata": {
        "id": "9oGNt4VZaSsT"
      },
      "execution_count": null,
      "outputs": []
    },
    {
      "cell_type": "code",
      "source": [],
      "metadata": {
        "id": "MdyHEYKXaSpw"
      },
      "execution_count": null,
      "outputs": []
    }
  ]
}