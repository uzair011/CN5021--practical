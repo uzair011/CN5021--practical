{
  "nbformat": 4,
  "nbformat_minor": 0,
  "metadata": {
    "colab": {
      "provenance": [],
      "authorship_tag": "ABX9TyMY/sMFOacNsr4hu+JnLcCu",
      "include_colab_link": true
    },
    "kernelspec": {
      "name": "python3",
      "display_name": "Python 3"
    },
    "language_info": {
      "name": "python"
    }
  },
  "cells": [
    {
      "cell_type": "markdown",
      "metadata": {
        "id": "view-in-github",
        "colab_type": "text"
      },
      "source": [
        "<a href=\"https://colab.research.google.com/github/uzair011/CN5021--practical/blob/main/CN5021_week_03.ipynb\" target=\"_parent\"><img src=\"https://colab.research.google.com/assets/colab-badge.svg\" alt=\"Open In Colab\"/></a>"
      ]
    },
    {
      "cell_type": "markdown",
      "source": [
        "Contitional statements"
      ],
      "metadata": {
        "id": "UHXtVAmn-o9H"
      }
    },
    {
      "cell_type": "code",
      "source": [
        "print(\"Enter 2 numbers to divide:\")\n",
        "\n",
        "dividend = int(input(\"Enter the 1st number: \"))\n",
        "divisor = int(input(\"Enter the 2nd number: \"))\n",
        "\n",
        "if divisor != 0:\n",
        "  print(dividend, \"/\", divisor, \"=\", dividend / divisor)"
      ],
      "metadata": {
        "colab": {
          "base_uri": "https://localhost:8080/"
        },
        "id": "MmO5jAH5A4Tn",
        "outputId": "afd24e68-7b9d-4b1e-ca80-b73e2ee4e37c"
      },
      "execution_count": 1,
      "outputs": [
        {
          "output_type": "stream",
          "name": "stdout",
          "text": [
            "Enter 2 numbers to divide:\n",
            "Enter the 1st number: 23\n",
            "Enter the 2nd number: 12\n",
            "23 / 12 = 1.9166666666666667\n"
          ]
        }
      ]
    },
    {
      "cell_type": "code",
      "source": [
        "# Example 2\n",
        "\n",
        "num = int (input (\"Enter an integer in the range of 0 and 999\"))\n",
        "\n",
        "if num < 0:\n",
        "  num = 0\n",
        "  print(\"Number is smaller than the required range.\")\n",
        "if num > 999:\n",
        "  num = 999\n",
        "  print(\"Number is larger than 999.\")\n",
        "if (num > 0 & num <999):\n",
        "  print (\"GREAT, you have inserted a number within the range...\")\n",
        "\n",
        "print(num)"
      ],
      "metadata": {
        "colab": {
          "base_uri": "https://localhost:8080/"
        },
        "id": "IGBXQ--rE60K",
        "outputId": "a15839ad-33f0-4a49-a298-e82e04689e3e"
      },
      "execution_count": 5,
      "outputs": [
        {
          "output_type": "stream",
          "name": "stdout",
          "text": [
            "Enter an integer in the range of 0 and 99934\n",
            "GREAT, you have inserted a number within the range...\n",
            "34\n"
          ]
        }
      ]
    },
    {
      "cell_type": "code",
      "source": [
        "# Example 3\n",
        "\n",
        "print(\"Enter 2 numbers to divide:\")\n",
        "\n",
        "dividend = int(input(\"Enter the 1st number: \"))\n",
        "divisor = int(input(\"Enter the 2nd number: \"))\n",
        "\n",
        "if divisor != 0:\n",
        "  print(dividend, \"/\", divisor, \"=\", dividend / divisor)\n",
        "else:\n",
        "  print(\"Division by 0 is not allowed!!!\")"
      ],
      "metadata": {
        "colab": {
          "base_uri": "https://localhost:8080/"
        },
        "id": "-_kIB9CrGlwZ",
        "outputId": "b0cd8d6f-5d31-47d8-a48f-2f120ca37d68"
      },
      "execution_count": 7,
      "outputs": [
        {
          "output_type": "stream",
          "name": "stdout",
          "text": [
            "Enter 2 numbers to divide:\n",
            "Enter the 1st number: 23\n",
            "Enter the 2nd number: 0\n",
            "Division by 0 is not allowed!!!\n"
          ]
        }
      ]
    },
    {
      "cell_type": "code",
      "source": [
        "# Example 4\n",
        "\n",
        "num = int (input (\"Enter an integer in the range of 0 and 999\"))\n",
        "\n",
        "if num > 0:\n",
        "  if num < 999:\n",
        "      print (\"GREAT, you have inserted a number within the range...\")\n",
        "  else:\n",
        "      print(\"Number is larger than 999.\")\n",
        "else:\n",
        "  print(\"Number is smaller than the required range.\")\n",
        "\n",
        "print(num)"
      ],
      "metadata": {
        "colab": {
          "base_uri": "https://localhost:8080/"
        },
        "id": "gFXFDdBjNtpQ",
        "outputId": "0c4ffd1c-e4d8-434f-fd20-7e68552256ef"
      },
      "execution_count": 10,
      "outputs": [
        {
          "output_type": "stream",
          "name": "stdout",
          "text": [
            "Enter an integer in the range of 0 and 999-1\n",
            "Number is smaller than the required range.\n",
            "-1\n"
          ]
        }
      ]
    },
    {
      "cell_type": "code",
      "source": [
        "# Exmple 5/6\n",
        "\n",
        "value = int(input(\"Please enter a number within 0 and 5 \"))\n",
        "\n",
        "if value < 0:\n",
        "  print(\"Too small - less than 0\")\n",
        "elif value == 0:\n",
        "  print(\"Zero\")\n",
        "elif value == 1:\n",
        "    print(\"One\")\n",
        "elif value == 2:\n",
        "    print(\"Two\")\n",
        "elif value == 3:\n",
        "    print(\"Three\")\n",
        "elif value == 4:\n",
        "    print(\"Four\")\n",
        "elif value == 5:\n",
        "    print(\"Five\")\n",
        "elif value > 5:\n",
        "    print(\"Too big - larger than 5\")\n",
        "print(\"Done\")"
      ],
      "metadata": {
        "colab": {
          "base_uri": "https://localhost:8080/"
        },
        "id": "k3cC696eO18D",
        "outputId": "7206b602-0d23-4ef7-e4c8-fc54d6281f96"
      },
      "execution_count": 24,
      "outputs": [
        {
          "output_type": "stream",
          "name": "stdout",
          "text": [
            "Please enter a number within 0 and 5 7\n",
            "Too big - larger than 5\n",
            "Done\n"
          ]
        }
      ]
    }
  ]
}