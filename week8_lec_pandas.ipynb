{
  "nbformat": 4,
  "nbformat_minor": 0,
  "metadata": {
    "colab": {
      "provenance": [],
      "authorship_tag": "ABX9TyMt0YbJVUCUDqkEeZM90Kuu",
      "include_colab_link": true
    },
    "kernelspec": {
      "name": "python3",
      "display_name": "Python 3"
    },
    "language_info": {
      "name": "python"
    }
  },
  "cells": [
    {
      "cell_type": "markdown",
      "metadata": {
        "id": "view-in-github",
        "colab_type": "text"
      },
      "source": [
        "<a href=\"https://colab.research.google.com/github/uzair011/CN5021--practical/blob/main/week8_lec_pandas.ipynb\" target=\"_parent\"><img src=\"https://colab.research.google.com/assets/colab-badge.svg\" alt=\"Open In Colab\"/></a>"
      ]
    },
    {
      "cell_type": "markdown",
      "source": [
        "# Data wrangling...\n",
        "-> Data Discovery -> Data sStructuring -> Data Cleaning -> Data Enriching -> Data Validation -> Publishing"
      ],
      "metadata": {
        "id": "5Zf_yfX3DpW1"
      }
    },
    {
      "cell_type": "code",
      "source": [],
      "metadata": {
        "id": "01oegqcKMQQ9"
      },
      "execution_count": null,
      "outputs": []
    }
  ]
}